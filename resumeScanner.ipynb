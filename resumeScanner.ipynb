{
  "nbformat": 4,
  "nbformat_minor": 0,
  "metadata": {
    "colab": {
      "provenance": [],
      "authorship_tag": "ABX9TyPzF2Hi/Unoe5JTfGpIGXO5",
      "include_colab_link": true
    },
    "kernelspec": {
      "name": "python3",
      "display_name": "Python 3"
    },
    "language_info": {
      "name": "python"
    },
    "accelerator": "GPU",
    "gpuClass": "standard"
  },
  "cells": [
    {
      "cell_type": "markdown",
      "metadata": {
        "id": "view-in-github",
        "colab_type": "text"
      },
      "source": [
        "<a href=\"https://colab.research.google.com/github/anchal9670/resumeScanner/blob/main/resumeScanner.ipynb\" target=\"_parent\"><img src=\"https://colab.research.google.com/assets/colab-badge.svg\" alt=\"Open In Colab\"/></a>"
      ]
    },
    {
      "cell_type": "code",
      "execution_count": 6,
      "metadata": {
        "colab": {
          "base_uri": "https://localhost:8080/"
        },
        "id": "F8yRfctBC6H8",
        "outputId": "4ea4b26d-cf80-480a-e2c5-e58f8dca62cb"
      },
      "outputs": [
        {
          "output_type": "stream",
          "name": "stdout",
          "text": [
            "Looking in indexes: https://pypi.org/simple, https://us-python.pkg.dev/colab-wheels/public/simple/\n",
            "Collecting docx2txt\n",
            "  Downloading docx2txt-0.8.tar.gz (2.8 kB)\n",
            "  Preparing metadata (setup.py) ... \u001b[?25l\u001b[?25hdone\n",
            "Building wheels for collected packages: docx2txt\n",
            "  Building wheel for docx2txt (setup.py) ... \u001b[?25l\u001b[?25hdone\n",
            "  Created wheel for docx2txt: filename=docx2txt-0.8-py3-none-any.whl size=3980 sha256=a6d7954d0e3268f330f1de8b3d8d203b944386bd99d5cb60fa8baec55c0d92f7\n",
            "  Stored in directory: /root/.cache/pip/wheels/55/f0/2c/81637d42670985178b77df6d41b9b6c6dc18c94818447414b9\n",
            "Successfully built docx2txt\n",
            "Installing collected packages: docx2txt\n",
            "Successfully installed docx2txt-0.8\n"
          ]
        }
      ],
      "source": [
        "!pip install docx2txt\n",
        "import docx2txt"
      ]
    },
    {
      "cell_type": "code",
      "source": [
        "job_des=docx2txt.process('/content/resume_004.docx')\n",
        "resume=docx2txt.process('/content/resume_004.docx')"
      ],
      "metadata": {
        "id": "qm7sE7ksDghe"
      },
      "execution_count": 8,
      "outputs": []
    },
    {
      "cell_type": "code",
      "source": [
        "print(resume)"
      ],
      "metadata": {
        "colab": {
          "base_uri": "https://localhost:8080/"
        },
        "id": "RbBDGFuhGfVD",
        "outputId": "81ee1a5f-78c8-438a-edda-aad5e1ba54bd"
      },
      "execution_count": 9,
      "outputs": [
        {
          "output_type": "stream",
          "name": "stdout",
          "text": [
            "Summary\n",
            "\n",
            "An aspiring software engineer with knowledge in software engineering practices such as coding, testing, code reviews, code comments, etc.  \n",
            "\n",
            "Education\n",
            "\n",
            "B. Tech in Information Technology 2020-2024\n",
            "\n",
            "\tRajkiya Engineering College , Ambedkar Nagar\n",
            "\n",
            "\tCGPA  7.1 till 3rd  semester\n",
            "\n",
            "Senior Secondary (XII) , Science\n",
            "\n",
            "\tSant Atulanand Residential Academy\n",
            "\n",
            "\tYear Of Completion : 2020\n",
            "\n",
            "\tPercentage : 81.20\n",
            "\n",
            "Secondary (X) \n",
            "\n",
            "\tSant Atulanand Residential Academy\n",
            "\n",
            "\tYear Of Completion : 2018\n",
            "\n",
            "\tPercentage : 77.78\n",
            "\n",
            "Personal Project\n",
            "\n",
            "BookStore - 12/2019 to 02/2020\n",
            "\n",
            "Programming Language : Python , Tkinter GUI module.\n",
            "\n",
            "Database : Mysql .\n",
            "\n",
            "This project , I developed for 12TH  board exam.\n",
            "\n",
            "Project Link : https://github.com/anchal9670/Bookstore\n",
            "\n",
            "EShop - 06/2020 to 08/2020\n",
            "\n",
            "Programming Language : HTML ,CSS ,JavaScript , PHP\n",
            "\n",
            "It is online shoping website where razor pay API demo version is used.\n",
            "\n",
            "Project Link : https://github.com/anchal9670/Eshop\n",
            "\n",
            "Tron Stacking - 11/2020 to 03/2021\n",
            "\n",
            "Programming Language : HTML ,CSS ,JavaScript , PHP , Ajax \n",
            "\n",
            "It is tron stacking website to connect with tron wallet.\n",
            "\n",
            "Project Link : https://github.com/anchal9670/Tron_Blockchain\n",
            "\n",
            "Fatafatbooks - 03/2022 to 04/2022\n",
            "\n",
            "Programming Language : HTML ,CSS ,JavaScript , JSON\n",
            "\n",
            "Project Link : https://github.com/anchal9670/fatafatbooks\n",
            "\n",
            "ScreenRecorder - 05/2022 to 06/2022\n",
            "\n",
            "Programming Language : Python\n",
            "\n",
            "Project Link : https://github.com/anchal9670/ScreenRecorder\n",
            "\n",
            "TextUtility- 06/2022 to 08/2022\n",
            "\n",
            "Programming Language : Python(Django),HTML,Bootsrtap,JS .\n",
            "\n",
            "Project Link : https://github.com/anchal9670/TextUtility\n",
            "\n",
            "Achievements\n",
            "\n",
            "Coder on Leetcode (06/2022 -present)\n",
            "\n",
            "Profile Link: https://leetcode.com/anchal9670/\n",
            "\n",
            "Certifications\n",
            "\n",
            "Python and Django | Udemy\n",
            "\n",
            "\n",
            "\n",
            "Additional Information\n",
            "\n",
            "Language : English ,Hindi \n",
            "\n",
            "Interest : Reading \n",
            "\n",
            "\n",
            "\n",
            "\n",
            "\n",
            "\n",
            "\n",
            "\n",
            "\n",
            "\n",
            "\n",
            "Summary\n",
            "\n",
            "An aspiring software engineer with knowledge in software engineering practices such as coding, testing, code reviews, code comments, etc.  \n",
            "\n",
            "Education\n",
            "\n",
            "B. Tech in Information Technology 2020-2024\n",
            "\n",
            "\tRajkiya Engineering College , Ambedkar Nagar\n",
            "\n",
            "\tCGPA  7.1 till 3rd  semester\n",
            "\n",
            "Senior Secondary (XII) , Science\n",
            "\n",
            "\tSant Atulanand Residential Academy\n",
            "\n",
            "\tYear Of Completion : 2020\n",
            "\n",
            "\tPercentage : 81.20\n",
            "\n",
            "Secondary (X) \n",
            "\n",
            "\tSant Atulanand Residential Academy\n",
            "\n",
            "\tYear Of Completion : 2018\n",
            "\n",
            "\tPercentage : 77.78\n",
            "\n",
            "Personal Project\n",
            "\n",
            "BookStore - 12/2019 to 02/2020\n",
            "\n",
            "Programming Language : Python , Tkinter GUI module.\n",
            "\n",
            "Database : Mysql .\n",
            "\n",
            "This project , I developed for 12TH  board exam.\n",
            "\n",
            "Project Link : https://github.com/anchal9670/Bookstore\n",
            "\n",
            "EShop - 06/2020 to 08/2020\n",
            "\n",
            "Programming Language : HTML ,CSS ,JavaScript , PHP\n",
            "\n",
            "It is online shoping website where razor pay API demo version is used.\n",
            "\n",
            "Project Link : https://github.com/anchal9670/Eshop\n",
            "\n",
            "Tron Stacking - 11/2020 to 03/2021\n",
            "\n",
            "Programming Language : HTML ,CSS ,JavaScript , PHP , Ajax \n",
            "\n",
            "It is tron stacking website to connect with tron wallet.\n",
            "\n",
            "Project Link : https://github.com/anchal9670/Tron_Blockchain\n",
            "\n",
            "Fatafatbooks - 03/2022 to 04/2022\n",
            "\n",
            "Programming Language : HTML ,CSS ,JavaScript , JSON\n",
            "\n",
            "Project Link : https://github.com/anchal9670/fatafatbooks\n",
            "\n",
            "ScreenRecorder - 05/2022 to 06/2022\n",
            "\n",
            "Programming Language : Python\n",
            "\n",
            "Project Link : https://github.com/anchal9670/ScreenRecorder\n",
            "\n",
            "TextUtility- 06/2022 to 08/2022\n",
            "\n",
            "Programming Language : Python(Django),HTML,Bootsrtap,JS .\n",
            "\n",
            "Project Link : https://github.com/anchal9670/TextUtility\n",
            "\n",
            "Achievements\n",
            "\n",
            "Coder on Leetcode (06/2022 -present)\n",
            "\n",
            "Profile Link: https://leetcode.com/anchal9670/\n",
            "\n",
            "Certifications\n",
            "\n",
            "Python and Django | Udemy\n",
            "\n",
            "\n",
            "\n",
            "Additional Information\n",
            "\n",
            "Language : English ,Hindi \n",
            "\n",
            "Interest : Reading \n",
            "\n",
            "\n",
            "\n",
            "\n",
            "\n",
            "\n",
            "\n",
            "\n",
            "\n",
            "\n",
            "\n",
            "Anchal Kumar Chaudhary\n",
            "\n",
            "Software Engineer\n",
            "\n",
            "\n",
            "\n",
            "\n",
            "\n",
            "\n",
            "\n",
            "\n",
            "\n",
            "Anchal Kumar Chaudhary\n",
            "\n",
            "Software Engineer\n",
            "\n",
            "\n",
            "\n",
            "\n",
            "\n",
            "\n",
            "\n",
            "\n",
            "\n",
            "\n",
            "\n",
            "\n",
            "\n",
            "Contact\n",
            "\n",
            "Mob \n",
            "\n",
            "+91 9670111710\n",
            "\n",
            "Mail\n",
            "\n",
            "anchalksai@gmail.com\n",
            "\n",
            "Linked In\n",
            "\n",
            "https://www.linkedin.com/in/anchalkumartech/\n",
            "\n",
            "\n",
            "\n",
            "Skills\n",
            "\n",
            "JavaScript \n",
            "\n",
            "C++ , C\n",
            "\n",
            "Python\t , Django\n",
            "\n",
            "PHP , Ajax\n",
            "\n",
            "Mysql , Mariadb\n",
            "\n",
            "HTML , CSS\n",
            "\n",
            "Git , Github\n",
            "\n",
            "\n",
            "\n",
            "\n",
            "\n",
            "\n",
            "\n",
            "Contact\n",
            "\n",
            "Mob \n",
            "\n",
            "+91 9670111710\n",
            "\n",
            "Mail\n",
            "\n",
            "anchalksai@gmail.com\n",
            "\n",
            "Linked In\n",
            "\n",
            "https://www.linkedin.com/in/anchalkumartech/\n",
            "\n",
            "\n",
            "\n",
            "Skills\n",
            "\n",
            "JavaScript \n",
            "\n",
            "C++ , C\n",
            "\n",
            "Python\t , Django\n",
            "\n",
            "PHP , Ajax\n",
            "\n",
            "Mysql , Mariadb\n",
            "\n",
            "HTML , CSS\n",
            "\n",
            "Git , Github\n"
          ]
        }
      ]
    },
    {
      "cell_type": "code",
      "source": [
        "content=[job_des , resume]"
      ],
      "metadata": {
        "id": "HcwDCixUG3Fa"
      },
      "execution_count": 10,
      "outputs": []
    },
    {
      "cell_type": "code",
      "source": [
        "from sklearn.feature_extraction.text import CountVectorizer\n",
        "cv=CountVectorizer()\n",
        "matrix=cv.fit_transform(content)"
      ],
      "metadata": {
        "id": "_qHXfulDHKkk"
      },
      "execution_count": 11,
      "outputs": []
    },
    {
      "cell_type": "code",
      "source": [
        "from sklearn.metrics.pairwise import cosine_similarity\n",
        "similarty_matrix=cosine_similarity(matrix)"
      ],
      "metadata": {
        "id": "UMC9kcrVH95p"
      },
      "execution_count": 13,
      "outputs": []
    },
    {
      "cell_type": "code",
      "source": [
        "print(similarty_matrix)"
      ],
      "metadata": {
        "colab": {
          "base_uri": "https://localhost:8080/"
        },
        "id": "kZHSJ-hkJQPs",
        "outputId": "2ae75609-c133-427f-fd69-77c78aabe576"
      },
      "execution_count": 14,
      "outputs": [
        {
          "output_type": "stream",
          "name": "stdout",
          "text": [
            "[[1. 1.]\n",
            " [1. 1.]]\n"
          ]
        }
      ]
    },
    {
      "cell_type": "code",
      "source": [
        "print('Resume matches by: '+str(similarty_matrix[1][0]*100)+ '%')"
      ],
      "metadata": {
        "colab": {
          "base_uri": "https://localhost:8080/"
        },
        "id": "ZFgacHTxJWFb",
        "outputId": "bcff0e0a-e87d-4cd0-a966-c721761fc7a4"
      },
      "execution_count": 19,
      "outputs": [
        {
          "output_type": "stream",
          "name": "stdout",
          "text": [
            "Resume matches by: 99.99999999999976%\n"
          ]
        }
      ]
    }
  ]
}